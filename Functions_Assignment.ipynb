{
  "nbformat": 4,
  "nbformat_minor": 0,
  "metadata": {
    "colab": {
      "provenance": []
    },
    "kernelspec": {
      "name": "python3",
      "display_name": "Python 3"
    },
    "language_info": {
      "name": "python"
    }
  },
  "cells": [
    {
      "cell_type": "markdown",
      "source": [
        "\n",
        "# 1. What is the difference between a function and a method in Python?\n",
        "\n",
        "🔹 Function (in Python):\n",
        "A function is a reusable block of code that performs a specific task. It is defined using the def keyword and can be called independently without being associated with any object.\n",
        "\n",
        "Example:\n",
        "def add(a, b):\n",
        "    return a + b\n",
        "\n",
        "print(add(2, 3))  # Output: 5\n",
        "\n",
        "🔹 Method (in Python):\n",
        "A method is a function that is associated with an object. It is defined inside a class and is called using the object or class instance it belongs to.\n",
        "\n",
        "Example:\n",
        "class Calculator:\n",
        "    def add(self, a, b):\n",
        "        return a + b\n",
        "\n",
        "c = Calculator()\n",
        "print(c.add(2, 3))  # Output: 5\n",
        "\n",
        "\n",
        "Key Difference:\n",
        "A function stands alone.\n",
        "\n",
        "A method is tied to an object (usually defined in a class).\n",
        "\n",
        "\n",
        "\n",
        "\n",
        "\n"
      ],
      "metadata": {
        "id": "gi-uSjyCHojR"
      }
    },
    {
      "cell_type": "markdown",
      "source": [
        "# 2. Explain the concept of function arguments and parameters in Python.\n",
        "\n",
        "🔹 Parameters\n",
        "Definition: Parameters are the variables listed inside the parentheses when defining a function.\n",
        "\n",
        "Purpose: They act as placeholders for the values that will be passed into the function.\n",
        "\n",
        "def greet(name):  # 'name' is a parameter\n",
        "    print(f\"Hello, {name}\")\n",
        "\n",
        "\n",
        "🔹 Arguments\n",
        "Definition: Arguments are the actual values passed to the function when it is called.\n",
        "\n",
        "Purpose: They replace the parameters during execution.\n",
        "\n",
        "greet(\"Darshini\")  # \"Darshini\" is an argument\n",
        "\n"
      ],
      "metadata": {
        "id": "xd5ZEeeoJcec"
      }
    },
    {
      "cell_type": "markdown",
      "source": [
        "# 3. What are the different ways to define and call a function in Python?\n",
        "\n",
        "1. Regular Function Definition and Call\n",
        "➤ Definition:\n",
        "def greet():\n",
        "    print(\"Hello!\")\n",
        "➤ Call:\n",
        "greet()\n",
        "\n",
        "\n",
        "2. Function with Parameters\n",
        "➤ Definition:\n",
        "def greet(name):\n",
        "    print(f\"Hello, {name}!\")\n",
        "➤ Call (with Argument):\n",
        "greet(\"Darshini\")\n",
        "\n",
        "\n",
        "3. Function with Default Parameters\n",
        "➤ Definition:\n",
        "def greet(name=\"Guest\"):\n",
        "    print(f\"Hello, {name}!\")\n",
        "➤ Call:\n",
        "greet()            # Uses default value\n",
        "greet(\"Emily\")     # Overrides default\n",
        "\n",
        "\n",
        "4. Function with Positional and Keyword Arguments\n",
        "➤ Definition:\n",
        "def add(a, b):\n",
        "    print(a + b)\n",
        "➤ Call:\n",
        "add(5, 10)               # Positional\n",
        "add(a=5, b=10)           # Keyword\n",
        "add(b=10, a=5)           # Order doesn’t matter with keyword\n",
        "\n",
        "\n",
        "5. Function with Variable-Length Arguments\n",
        "➤ Using *args:\n",
        "def total(*nums):\n",
        "    print(sum(nums))\n",
        "total(1, 2, 3, 4)  # Output: 10\n",
        "\n",
        "➤ Using **kwargs:\n",
        "def print_info(**info):\n",
        "    for key, value in info.items():\n",
        "        print(f\"{key}: {value}\")\n",
        "print_info(name=\"Darshini\", age=22)\n"
      ],
      "metadata": {
        "id": "0LrKuWf8xpkB"
      }
    },
    {
      "cell_type": "markdown",
      "source": [
        "# 4. What is the purpose of the `return` statement in a Python function?\n",
        "\n",
        "The return statement is used to exit a function and send a value back to the place where the function was called.\n",
        "\n",
        "It allows the function to output data that can be used elsewhere in the program. If no return is used, the function returns None by default.\n",
        "\n",
        "Functions can also return multiple values as tuples, making Python flexible and concise when handling outputs."
      ],
      "metadata": {
        "id": "N0M2USeqxq-v"
      }
    },
    {
      "cell_type": "markdown",
      "source": [
        "#5. What are iterators in Python and how do they differ from iterables?\n",
        "\n",
        " 1. Iterable\n",
        "An iterable is any object that can be looped over.\n",
        "\n",
        "It implements the __iter__() method, which returns an iterator.\n",
        "\n",
        "Examples: list, tuple, str, set, dict, etc.\n",
        "my_list = [1, 2, 3]\n",
        "for i in my_list:       # my_list is an iterable\n",
        "    print(i)\n",
        "\n",
        "\n",
        "🔹 2. Iterator\n",
        "An iterator is an object that keeps state and produces the next value when you call next().\n",
        "\n",
        "It implements two methods: __iter__() and __next__().\n",
        "\n",
        "my_iter = iter(my_list)     # creates an iterator\n",
        "print(next(my_iter))        # Output: 1\n",
        "print(next(my_iter))        # Output: 2\n",
        "\n",
        "\n",
        "An iterator is the object returned by calling iter() on an iterable. It has both __iter__() and __next__() methods and is used to get the next item one at a time.\n",
        "\n",
        "So, all iterators are iterables, but not all iterables are iterators."
      ],
      "metadata": {
        "id": "6X_z0VUfxq7X"
      }
    },
    {
      "cell_type": "markdown",
      "source": [
        "#6. Explain the concept of generators in Python and how they are defined.\n",
        "\n",
        "A generator is a special type of iterator in Python that allows you to generate values on the fly instead of storing them all in memory.\n",
        "\n",
        "What Makes a Generator Special?\n",
        "Defined like a normal function but uses yield instead of return.\n",
        "Returns a generator object, which can be iterated one value at a time.\n",
        "Saves memory by generating values lazily (only when needed).\n",
        "\n",
        "Function : Returns a value and exits\n",
        "Generator : Pauses at yield and resumes\n",
        "\n",
        "def countdown(n):\n",
        "    while n > 0:\n",
        "        yield n\n",
        "        n -= 1\n",
        "\n",
        "gen = countdown(3)\n",
        "\n",
        "print(next(gen))  # 3\n",
        "print(next(gen))  # 2\n",
        "print(next(gen))  # 1\n",
        "\n",
        "'''next(gen) now would raise StopIteration\n"
      ],
      "metadata": {
        "id": "eho2sUqDxq3u"
      }
    },
    {
      "cell_type": "markdown",
      "source": [
        "#7. What are the advantages of using generators over regular functions?\n",
        "\n",
        "1. Memory Efficiency\n",
        "Regular functions store all results in memory (e.g., return a full list).\n",
        "Generators yield one item at a time, not storing the entire result in memory.\n",
        "\n",
        "Only one value lives in memory at a time → avoids memory overflow.\n",
        "\n",
        "2. Faster Startup Time\n",
        "Generators start executing immediately without waiting to compute all values.\n",
        "\n",
        "3. Infinite Sequences Support\n",
        "You can generate infinite data without crashing or freezing the program.\n",
        "\n",
        "4. Pipeline-Friendly (Chaining Generators)\n",
        "You can chain generators to create data processing pipelines."
      ],
      "metadata": {
        "id": "fys8FwcUxqw9"
      }
    },
    {
      "cell_type": "markdown",
      "source": [
        "# 8. What is a lambda function in Python and when is it typically used?\n",
        "\n",
        "A lambda function is a small, anonymous (unnamed) function defined using the lambda keyword instead of the regular def keyword.\n",
        "\n",
        "syntax : lambda arguments: expression\n",
        "\n",
        "This function can have any number of arguments, but only one expression.\n",
        "\n",
        "\n",
        "Sorting with custom key : sorted(list, key=lambda x: x[1])\n",
        "\n",
        "Lambda functions are typically used for short operations, especially as arguments to functions like map(), filter(), and sorted(), where defining a full function would be unnecessary.\n",
        "\n",
        "Limitations of Lambda:\n",
        "Only one expression is allowed.\n",
        "\n",
        "Cannot contain statements like if, while, for, etc. (but can use conditional expressions).\n",
        "\n",
        "Not suitable for complex logic — use def for that.\n",
        "\n"
      ],
      "metadata": {
        "id": "OP1Hch_Jxqs9"
      }
    },
    {
      "cell_type": "markdown",
      "source": [
        "#9. Explain the purpose and usage of the `map()` function in Python.\n",
        "\n",
        "The map() function is used to apply a function to every item in a list (or any iterable) — without using a loop.\n",
        "\n",
        "It’s like telling Python:\n",
        "\n",
        "“Please apply this function to each item in this list, one by one.”\n",
        "\n",
        "map(function, iterable)\n",
        "\n",
        "function: A function you want to apply.\n",
        "iterable: A list, tuple, string, etc.\n",
        "\n",
        "example:\n",
        "nums = [1, 2, 3, 4]\n",
        "# Use map to double each number\n",
        "doubled = map(lambda x: x * 2, nums)\n",
        "print(list(doubled))  # Output: [2, 4, 6, 8]\n",
        "\n"
      ],
      "metadata": {
        "id": "lKfue8ofxqkO"
      }
    },
    {
      "cell_type": "markdown",
      "source": [
        "# 10.What is the difference between map(), reduce(), and filter() functions in Python?\n",
        "\n",
        "\n",
        "The map(), filter(), and reduce() functions are used for processing iterables.\n",
        "\n",
        "map() applies a function to every item and returns a new list.\n",
        "filter() selects items that meet a condition.\n",
        "reduce() combines all items into a single value.\n",
        "\n",
        "For example, to double every number we use map, to select even numbers we use filter, and to multiply all numbers we use reduce.\n",
        "\n"
      ],
      "metadata": {
        "id": "lk_Q610axqJK"
      }
    },
    {
      "cell_type": "markdown",
      "source": [
        "# 11. Using pen & Paper write the internal mechanism for sum operation using  reduce function on this given\n",
        "list:[47,11,42,13];"
      ],
      "metadata": {
        "id": "_BOm6bEl7YHr"
      }
    },
    {
      "cell_type": "code",
      "source": [
        "# 1. Write a Python function that takes a list of numbers as input and returns the sum of all even numbers in\n",
        "# the list.\n",
        "\n",
        "def list_of_numbers(m):\n",
        "  s=0\n",
        "  for i in m:\n",
        "    if i%2==0:\n",
        "      s+=i\n",
        "    else:\n",
        "      pass\n",
        "  return s\n",
        "\n",
        "\n",
        "k=input(\"Enter the list elements : \")\n",
        "n=list(map(int,k.split()))\n",
        "result=list_of_numbers(n)\n",
        "print(result)\n"
      ],
      "metadata": {
        "colab": {
          "base_uri": "https://localhost:8080/"
        },
        "id": "eLBBLM9-8S07",
        "outputId": "64554deb-0aad-4540-9b3d-3266ef7d72fc"
      },
      "execution_count": 4,
      "outputs": [
        {
          "output_type": "stream",
          "name": "stdout",
          "text": [
            "Enter the list elements : 1 2 3 4 5\n",
            "6\n"
          ]
        }
      ]
    },
    {
      "cell_type": "code",
      "source": [
        "# 2. Create a Python function that accepts a string and returns the reverse of that string.\n",
        "\n",
        "def reverse_a_string(s):\n",
        "  rev=\"\"\n",
        "  for i in s[::-1]:\n",
        "    rev=rev+i\n",
        "  return rev\n",
        "\n",
        "m=reverse_a_string(\"mani\")\n",
        "print(m)"
      ],
      "metadata": {
        "colab": {
          "base_uri": "https://localhost:8080/"
        },
        "id": "0GylRiMI8Zb_",
        "outputId": "45558580-1505-4dc1-d93f-ed4eceed8b40"
      },
      "execution_count": 2,
      "outputs": [
        {
          "output_type": "stream",
          "name": "stdout",
          "text": [
            "inam\n"
          ]
        }
      ]
    },
    {
      "cell_type": "code",
      "source": [
        "# 3.Implement a Python function that takes a list of integers and returns a new list containing the squares of\n",
        "# each number.\n",
        "\n",
        "def squares(n):\n",
        "  sqs=[]\n",
        "  for i in n:\n",
        "    sqs.append(i*i)\n",
        "  return sqs\n",
        "\n",
        "user_input=input(\"Enter the list values : \")\n",
        "m = list(map(int,user_input.split()))\n",
        "result=squares(m)\n",
        "print(result)\n"
      ],
      "metadata": {
        "colab": {
          "base_uri": "https://localhost:8080/"
        },
        "id": "gP6TthBV-h2c",
        "outputId": "61d7a2a8-7aa8-4dc9-fce6-f8827ab66b89"
      },
      "execution_count": 6,
      "outputs": [
        {
          "output_type": "stream",
          "name": "stdout",
          "text": [
            "Enter the list values : 1 2 3 4 5 \n",
            "[1, 4, 9, 16, 25]\n"
          ]
        }
      ]
    },
    {
      "cell_type": "code",
      "source": [
        "#4. Write a Python function that checks if a given number is prime or not from 1 to 200\n",
        "import math\n",
        "def is_prime(num):\n",
        "  if num <=1:\n",
        "    return False\n",
        "  for i in range(2,int(math.sqrt(num)+1)):\n",
        "    if num%i==0:\n",
        "      return False\n",
        "  return True\n",
        "\n",
        "for j in range(1,200):\n",
        "  if is_prime(j):\n",
        "    print(j)\n"
      ],
      "metadata": {
        "colab": {
          "base_uri": "https://localhost:8080/"
        },
        "id": "xJezFr82h-FH",
        "outputId": "e679b64f-77e5-4687-adc1-8a46338b735a"
      },
      "execution_count": 21,
      "outputs": [
        {
          "output_type": "stream",
          "name": "stdout",
          "text": [
            "2\n",
            "3\n",
            "5\n",
            "7\n",
            "11\n",
            "13\n",
            "17\n",
            "19\n",
            "23\n",
            "29\n",
            "31\n",
            "37\n",
            "41\n",
            "43\n",
            "47\n",
            "53\n",
            "59\n",
            "61\n",
            "67\n",
            "71\n",
            "73\n",
            "79\n",
            "83\n",
            "89\n",
            "97\n",
            "101\n",
            "103\n",
            "107\n",
            "109\n",
            "113\n",
            "127\n",
            "131\n",
            "137\n",
            "139\n",
            "149\n",
            "151\n",
            "157\n",
            "163\n",
            "167\n",
            "173\n",
            "179\n",
            "181\n",
            "191\n",
            "193\n",
            "197\n",
            "199\n"
          ]
        }
      ]
    },
    {
      "cell_type": "code",
      "source": [
        "# 5.Create an iterator class in Python that generates the Fibonacci sequence up to a specified number of terms.\n",
        "\n",
        "class Fibonacci:\n",
        "    def __init__(self, limit):\n",
        "        self.limit = limit\n",
        "        self.count = 0\n",
        "        self.a = 0\n",
        "        self.b = 1\n",
        "\n",
        "    def __iter__(self):\n",
        "        return self\n",
        "\n",
        "    def __next__(self):\n",
        "        if self.count >= self.limit:\n",
        "            raise StopIteration\n",
        "\n",
        "        if self.count == 0:\n",
        "            self.count += 1\n",
        "            return self.a\n",
        "        elif self.count == 1:\n",
        "            self.count += 1\n",
        "            return self.b\n",
        "        else:\n",
        "            fib = self.a + self.b  # next Fibonacci number\n",
        "            self.a = self.b        # update previous\n",
        "            self.b = fib           # update current\n",
        "            self.count += 1\n",
        "            return fib\n",
        "\n",
        "\n",
        "n = int(input(\"Enter number of Fibonacci terms: \"))\n",
        "fib = Fibonacci(n)\n",
        "\n",
        "for num in fib:\n",
        "    print(num, end=\" \")\n",
        "\n"
      ],
      "metadata": {
        "colab": {
          "base_uri": "https://localhost:8080/"
        },
        "id": "7hcSqtevocsT",
        "outputId": "deb3c140-5e58-42e9-d928-6da1b7944b21"
      },
      "execution_count": 26,
      "outputs": [
        {
          "output_type": "stream",
          "name": "stdout",
          "text": [
            "Enter number of Fibonacci terms: 5\n",
            "0 1 1 2 3 "
          ]
        }
      ]
    },
    {
      "cell_type": "code",
      "source": [
        "# 6. Write a generator function in Python that yields the powers of 2 up to a given exponent.\n",
        "def powers_of_two(limit):\n",
        "    for i in range(limit + 1):\n",
        "        yield 2 ** i\n",
        "n = int(input(\"Enter the maximum exponent: \"))\n",
        "\n",
        "for power in powers_of_two(n):\n",
        "    print(power, end=\" \")\n"
      ],
      "metadata": {
        "colab": {
          "base_uri": "https://localhost:8080/"
        },
        "id": "mQE2y5TkqMqs",
        "outputId": "4f4e2b8b-4be7-4137-e09f-521ea9b28c13"
      },
      "execution_count": 28,
      "outputs": [
        {
          "output_type": "stream",
          "name": "stdout",
          "text": [
            "Enter the maximum exponent: 5\n",
            "1 2 4 8 16 32 "
          ]
        }
      ]
    },
    {
      "cell_type": "code",
      "source": [
        "#7. Implement a generator function that reads a file line by line and yields each line as a string\n",
        "\n",
        "def read_file_lines(filename):\n",
        "    with open(filename, 'r') as file:\n",
        "        for line in file:\n",
        "            yield line.rstrip('\\n')\n",
        "\n",
        "# You can use input() too, but for now hardcoded:\n",
        "file_path = r\"C:\\Users\\MANI DARSHINI\\OneDrive\\Desktop\\PW\\sample.txt\"\n",
        "\n",
        "for line in read_file_lines(file_path):\n",
        "    print(line)"
      ],
      "metadata": {
        "id": "rvyZ364zsC5n"
      },
      "execution_count": null,
      "outputs": []
    },
    {
      "cell_type": "code",
      "source": [
        "#8. Use a lambda function in Python to sort a list of tuples based on the second element of each tuple.\n",
        "\n",
        "pairs = [(1, 5), (3, 1), (4, 2), (2, 4)]\n",
        "\n",
        "# Sort by second element using lambda\n",
        "sorted_pairs = sorted(pairs, key=lambda x: x[1])\n",
        "\n",
        "print(\"Sorted list:\", sorted_pairs)\n"
      ],
      "metadata": {
        "colab": {
          "base_uri": "https://localhost:8080/"
        },
        "id": "Q-BZuSiJsE5-",
        "outputId": "e8371486-80d4-4456-d664-bbfccaa868d3"
      },
      "execution_count": 34,
      "outputs": [
        {
          "output_type": "stream",
          "name": "stdout",
          "text": [
            "Sorted list: [(3, 1), (4, 2), (2, 4), (1, 5)]\n"
          ]
        }
      ]
    },
    {
      "cell_type": "code",
      "source": [
        "#9. Write a Python program that uses `map()` to convert a list of temperatures from Celsius to Fahrenheit.\n",
        "\n",
        "# List of Celsius temperatures\n",
        "celsius = [0, 10, 20, 30, 40]\n",
        "\n",
        "# Convert to Fahrenheit using map() and lambda\n",
        "fahrenheit = list(map(lambda c: (c * 9/5) + 32, celsius))\n",
        "\n",
        "# Output the result\n",
        "print(\"Celsius:    \", celsius)\n",
        "print(\"Fahrenheit: \", fahrenheit)\n"
      ],
      "metadata": {
        "colab": {
          "base_uri": "https://localhost:8080/"
        },
        "id": "0LEdqE6ZsX_t",
        "outputId": "4fc10b88-fef2-412f-9471-7cc9b25e8113"
      },
      "execution_count": 35,
      "outputs": [
        {
          "output_type": "stream",
          "name": "stdout",
          "text": [
            "Celsius:     [0, 10, 20, 30, 40]\n",
            "Fahrenheit:  [32.0, 50.0, 68.0, 86.0, 104.0]\n"
          ]
        }
      ]
    },
    {
      "cell_type": "code",
      "source": [
        "#10. Create a Python program that uses `filter()` to remove all the vowels from a given string.\n",
        "def remove_vowels(text):\n",
        "    vowels = 'aeiouAEIOU'\n",
        "    # Use filter to keep only non-vowel characters\n",
        "    return ''.join(filter(lambda char: char not in vowels, text))\n",
        "\n",
        "# Input from user\n",
        "user_input = input(\"Enter a string: \")\n",
        "\n",
        "# Call the function\n",
        "result = remove_vowels(user_input)\n",
        "\n",
        "# Output\n",
        "print(\"String without vowels:\", result)\n"
      ],
      "metadata": {
        "colab": {
          "base_uri": "https://localhost:8080/"
        },
        "id": "yyzC7b5msx_0",
        "outputId": "07806d9f-8b80-4750-a0be-cca5d79becd8"
      },
      "execution_count": 36,
      "outputs": [
        {
          "output_type": "stream",
          "name": "stdout",
          "text": [
            "Enter a string: mani\n",
            "String without vowels: mn\n"
          ]
        }
      ]
    },
    {
      "cell_type": "code",
      "source": [
        "#11) Imagine an accounting routine used in a book shop. It works on a list with sublists, which look like this:\n",
        "\n",
        "# Write a Python program, which returns a list with 2-tuples. Each tuple consists of the order number and the\n",
        "# product of the price per item and the quantity. The product should be increased by 10,- € if the value of the\n",
        "# order is smaller than 100,00 €.\n",
        "\n",
        "# Step 1: Define the data\n",
        "orders = [\n",
        "    [34587, \"Learning Python, Mark Lutz\", 4, 40.95],\n",
        "    [98762, \"Programming Python, Mark Lutz\", 5, 56.80],\n",
        "    [77226, \"Head First Python, Paul Barry\", 3, 32.95],\n",
        "    [88112, \"Einführung in Python3, Bernd Klein\", 3, 24.99]\n",
        "]\n",
        "\n",
        "# Step 2: Define the function to process orders\n",
        "def process_orders(order_list):\n",
        "    result = []\n",
        "    for order in order_list:\n",
        "        order_number = order[0]\n",
        "        quantity = order[2]\n",
        "        price = order[3]\n",
        "        total = quantity * price\n",
        "        if total < 100:\n",
        "            total += 10  # Add handling fee\n",
        "        result.append((order_number, round(total, 2)))\n",
        "    return result\n",
        "\n",
        "# Step 3: Call the function and print results\n",
        "processed_orders = process_orders(orders)\n",
        "\n",
        "for order in processed_orders:\n",
        "    print(f\"Order #{order[0]} → €{order[1]}\")\n"
      ],
      "metadata": {
        "colab": {
          "base_uri": "https://localhost:8080/"
        },
        "id": "RO-hWLoas8aV",
        "outputId": "a1825bd4-a7d5-45b7-b605-3af36b2322cf"
      },
      "execution_count": 38,
      "outputs": [
        {
          "output_type": "stream",
          "name": "stdout",
          "text": [
            "Order #34587 → €163.8\n",
            "Order #98762 → €284.0\n",
            "Order #77226 → €108.85\n",
            "Order #88112 → €84.97\n"
          ]
        }
      ]
    },
    {
      "cell_type": "code",
      "source": [
        "# Write a Python program using lambda and map.\n",
        "# List of numbers\n",
        "numbers = [1, 2, 3, 4, 5]\n",
        "\n",
        "# Use lambda and map to square each number\n",
        "squared_numbers = list(map(lambda x: x ** 2, numbers))\n",
        "\n",
        "# Print the result\n",
        "print(\"Original numbers:\", numbers)\n",
        "print(\"Squared numbers:\", squared_numbers)\n"
      ],
      "metadata": {
        "colab": {
          "base_uri": "https://localhost:8080/"
        },
        "id": "XgVyDBZ4tvTc",
        "outputId": "bed270b7-8114-4fee-c8b7-71b36211a0a2"
      },
      "execution_count": 40,
      "outputs": [
        {
          "output_type": "stream",
          "name": "stdout",
          "text": [
            "Original numbers: [1, 2, 3, 4, 5]\n",
            "Squared numbers: [1, 4, 9, 16, 25]\n"
          ]
        }
      ]
    }
  ]
}